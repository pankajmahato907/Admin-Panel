{
  "nbformat": 4,
  "nbformat_minor": 0,
  "metadata": {
    "colab": {
      "provenance": [],
      "authorship_tag": "ABX9TyPehlQ/2Rj5251FmH27gdzo",
      "include_colab_link": true
    },
    "kernelspec": {
      "name": "python3",
      "display_name": "Python 3"
    },
    "language_info": {
      "name": "python"
    }
  },
  "cells": [
    {
      "cell_type": "markdown",
      "metadata": {
        "id": "view-in-github",
        "colab_type": "text"
      },
      "source": [
        "<a href=\"https://colab.research.google.com/github/pankajmahato907/Admin-Panel/blob/master/Workshop1.ipynb\" target=\"_parent\"><img src=\"https://colab.research.google.com/assets/colab-badge.svg\" alt=\"Open In Colab\"/></a>"
      ]
    },
    {
      "cell_type": "markdown",
      "source": [
        "**Week 1**\n",
        "\n",
        "**Task 1 :**"
      ],
      "metadata": {
        "id": "Gc6aHC8XgbMo"
      }
    },
    {
      "cell_type": "markdown",
      "source": [
        "1. Write a function fib (n) that prompts the number of terms “n” from the user and displays first “n” terms of Fibonacci sequence iteratively."
      ],
      "metadata": {
        "id": "iLjUXKL4LLes"
      }
    },
    {
      "cell_type": "code",
      "source": [
        "n=int(input(\"enter a number:\"))\n",
        "def fibo(n):\n",
        "  a=0\n",
        "  b=1\n",
        "  print(a)\n",
        "  for i in range (n-1):\n",
        "    c=a+b\n",
        "    a,b=c,a\n",
        "    print(c)\n",
        "\n",
        "fibo(n)\n"
      ],
      "metadata": {
        "id": "h9g3OnVDguUK",
        "colab": {
          "base_uri": "https://localhost:8080/"
        },
        "outputId": "f193582c-f57d-4676-f801-5c7f7681e06a"
      },
      "execution_count": null,
      "outputs": [
        {
          "output_type": "stream",
          "name": "stdout",
          "text": [
            "enter a number:10\n",
            "0\n",
            "1\n",
            "1\n",
            "2\n",
            "3\n",
            "5\n",
            "8\n",
            "13\n",
            "21\n",
            "34\n"
          ]
        }
      ]
    },
    {
      "cell_type": "markdown",
      "source": [
        "2.\tWrite a function myPow(x, n) that returns xn\n",
        ", where and n is a non- negative integer.\n",
        "Do not use the * * operator or the math.pow function - use one while loop.\n"
      ],
      "metadata": {
        "id": "Rn5DFxm7av4J"
      }
    },
    {
      "cell_type": "code",
      "source": [
        "def mypow(x,n):\n",
        "  p = 1\n",
        "  while(n>0):\n",
        "    p = p * x\n",
        "    n= n -1\n",
        "  return p\n",
        "print(mypow(3,4))"
      ],
      "metadata": {
        "colab": {
          "base_uri": "https://localhost:8080/"
        },
        "id": "Qp4KyEANa0H4",
        "outputId": "d35283d4-e2d3-43a4-82c4-00016880322f"
      },
      "execution_count": null,
      "outputs": [
        {
          "output_type": "stream",
          "name": "stdout",
          "text": [
            "81\n"
          ]
        }
      ]
    },
    {
      "cell_type": "markdown",
      "source": [
        "3.\tWrite a function SumDigits(n) that displays the sum of digits of “n”. Hint: SumDigits(234) will be 2+3+4=9"
      ],
      "metadata": {
        "id": "fDqqZ1WKx-_b"
      }
    },
    {
      "cell_type": "code",
      "source": [
        "def SumDigits(n):\n",
        "  sum = 0\n",
        "  while(n>0):\n",
        "    rem = n % 10\n",
        "    sum = sum + rem\n",
        "    n = n//10\n",
        "  return sum\n",
        "print(SumDigits(234))"
      ],
      "metadata": {
        "id": "3cKySBrJyA6m",
        "colab": {
          "base_uri": "https://localhost:8080/"
        },
        "outputId": "3ba92062-5f33-407b-8f02-cf47cbda83ad"
      },
      "execution_count": null,
      "outputs": [
        {
          "output_type": "stream",
          "name": "stdout",
          "text": [
            "9\n"
          ]
        }
      ]
    },
    {
      "cell_type": "markdown",
      "source": [
        "4.\tWrite a function squaredSum that returns the sum of the squares of an array/list of integers such that squaredSum([2,3,4]) gives 29. Write your solution in pure Python to show the logic in your solution, do not use any library functions."
      ],
      "metadata": {
        "id": "LJsmyRRhWxdC"
      }
    },
    {
      "cell_type": "code",
      "source": [
        "def squaredsum(p):\n",
        "  results = 0\n",
        "  for i in p:\n",
        "    results = results + i**2\n",
        "  return results\n",
        "print (squaredsum([2,3,4]))"
      ],
      "metadata": {
        "colab": {
          "base_uri": "https://localhost:8080/"
        },
        "id": "Y1dSJ9xVW0sB",
        "outputId": "8678dc09-f475-4443-a7e1-2bef62f1ff1a"
      },
      "execution_count": null,
      "outputs": [
        {
          "output_type": "stream",
          "name": "stdout",
          "text": [
            "29\n"
          ]
        }
      ]
    },
    {
      "cell_type": "markdown",
      "source": [],
      "metadata": {
        "id": "Rrwd2sG8WVq5"
      }
    },
    {
      "cell_type": "markdown",
      "source": [
        "5.\tWrite a function called sumDigits that is given an integer num and returns the sum of the digits of number. Eg.\n",
        "sumDigits(6) gives 21. Do not use any library functions (if there is one).\n"
      ],
      "metadata": {
        "id": "D_cWENT8YwfN"
      }
    },
    {
      "cell_type": "code",
      "source": [
        "def sumDigits(n):\n",
        "  sum_digit=0\n",
        "\n",
        "  while n > 0:\n",
        "    digit=n%10\n",
        "    sum_digit += digit\n",
        "    n=n//10\n",
        "  return sum_digit\n",
        "print(sumDigits(123))"
      ],
      "metadata": {
        "id": "gawMPi32YyEJ",
        "colab": {
          "base_uri": "https://localhost:8080/"
        },
        "outputId": "fe46f072-87fe-4f23-b2f0-b6f44edf3414"
      },
      "execution_count": 1,
      "outputs": [
        {
          "output_type": "stream",
          "name": "stdout",
          "text": [
            "6\n"
          ]
        }
      ]
    },
    {
      "cell_type": "markdown",
      "source": [
        "**Examples are as follows:**"
      ],
      "metadata": {
        "id": "YZ94qDMc70wa"
      }
    },
    {
      "cell_type": "markdown",
      "source": [
        "1\tVariables:\n",
        "In Python, Variable are just simple containers, that stores data value. Unlike other languages, such as Java, Python has no command for declaring a variable, so you create one the moment you first assign a value to it.\n"
      ],
      "metadata": {
        "id": "2zJxBsBZLZvH"
      }
    },
    {
      "cell_type": "code",
      "source": [
        "length = 10 #variable1\n",
        "width = 5 #variable2\n",
        "area = length * width #This is called an expression\n",
        "print(area)\n"
      ],
      "metadata": {
        "colab": {
          "base_uri": "https://localhost:8080/"
        },
        "id": "UsPCf9W9LpcE",
        "outputId": "ad819341-2a53-4ca8-fd91-06ef5890d488"
      },
      "execution_count": 2,
      "outputs": [
        {
          "output_type": "stream",
          "name": "stdout",
          "text": [
            "50\n"
          ]
        }
      ]
    },
    {
      "cell_type": "markdown",
      "source": [
        "2\tType Conversion:\n",
        "In programming, type conversion is the process of converting data of one type to another. For example: converting int data to str.\n",
        "\n",
        "2.1)**Implicit** Conversion (Automatic type conversion)"
      ],
      "metadata": {
        "id": "Z28GQoksL5-D"
      }
    },
    {
      "cell_type": "code",
      "source": [
        "print(7+8.5)\n",
        "# 7 is int type & 8.5 is float type, but mixing these two programs run well.\n"
      ],
      "metadata": {
        "colab": {
          "base_uri": "https://localhost:8080/"
        },
        "id": "95YpQPVbMC2V",
        "outputId": "2464a2f0-e122-4213-9425-8d87ecaa6e72"
      },
      "execution_count": 3,
      "outputs": [
        {
          "output_type": "stream",
          "name": "stdout",
          "text": [
            "15.5\n"
          ]
        }
      ]
    },
    {
      "cell_type": "markdown",
      "source": [
        "Explicit Conversion (Manual type conversion)"
      ],
      "metadata": {
        "id": "tXk400b1MNpu"
      }
    },
    {
      "cell_type": "code",
      "source": [
        "base = 6\n",
        "height = 2\n",
        "area = base*height/2\n",
        "print(\"Area is \" + str(area))\n",
        "#changed, int type, ’area’ to string\n"
      ],
      "metadata": {
        "colab": {
          "base_uri": "https://localhost:8080/"
        },
        "id": "aKufszvcMTdj",
        "outputId": "7c92d3a6-4e09-4b4a-b709-0ffbf0b89486"
      },
      "execution_count": 5,
      "outputs": [
        {
          "output_type": "stream",
          "name": "stdout",
          "text": [
            "Area is 6.0\n"
          ]
        }
      ]
    },
    {
      "cell_type": "markdown",
      "source": [
        "Exercise 1:\n",
        "Write a program to prompt the user for hours and rate per hour using input( ) to compute gross pay. Pay the hourly rate for the hours up to 40 and 1.5 times the hourly rate for all hours worked above 40 hours. Use 45 hours and a rate of 10.50 per hour to test the program (the pay should be 498.75)."
      ],
      "metadata": {
        "id": "DcrSbvMlNSZq"
      }
    },
    {
      "cell_type": "code",
      "source": [
        "hrs = input(\"Enter Hours:\")\n",
        "h = float(hrs)\n",
        "rate = input(\"Enter the rate per hour:\")\n",
        "r = float(rate) # complete the program\n",
        "if h<=40:\n",
        "  gross_pay=h*r\n",
        "else:\n",
        "  overtime_hours= h-40\n",
        "  gross_pay =(40-r)+(overtime_hours*1.5*r)\n",
        "  print(gross_pay)"
      ],
      "metadata": {
        "colab": {
          "base_uri": "https://localhost:8080/"
        },
        "id": "CXs31OEzNcjw",
        "outputId": "6896e698-bcd6-4c7c-d017-14b80f0a58fc"
      },
      "execution_count": 6,
      "outputs": [
        {
          "output_type": "stream",
          "name": "stdout",
          "text": [
            "Enter Hours:45\n",
            "Enter the rate per hour:10.50\n",
            "108.25\n"
          ]
        }
      ]
    },
    {
      "cell_type": "markdown",
      "source": [
        "3\tFunction:\n",
        "\n",
        "A function is a block of code that performs a specific task. We general create a function to divide a complex problem into smaller chunks, which makes our program easy to understand and reuse. There are two types of function in Python programming:\n",
        "1.\tStandard library functions - These are built-in functions in Python that are available to use.\n",
        "2.\tUser-defined functions - We can create our own functions based on our requirements.\n",
        "Example 4:"
      ],
      "metadata": {
        "id": "OBI4iAXJOply"
      }
    },
    {
      "cell_type": "code",
      "source": [
        "#passing parameters/argumets to the function\n",
        "def greeting (name):\n",
        "  print(\"Welcome \"+ name)\n",
        "greeting(\"Pankaj Kumar Mahato\")"
      ],
      "metadata": {
        "colab": {
          "base_uri": "https://localhost:8080/"
        },
        "id": "bWdYugUuOwd3",
        "outputId": "182050d3-ac33-4848-d3ba-6d0ab63ec7b9"
      },
      "execution_count": 13,
      "outputs": [
        {
          "output_type": "stream",
          "name": "stdout",
          "text": [
            "Welcome Pankaj Kumar Mahato\n"
          ]
        }
      ]
    },
    {
      "cell_type": "markdown",
      "source": [
        "Example 5 :"
      ],
      "metadata": {
        "id": "PHerKIDY88tz"
      }
    },
    {
      "cell_type": "code",
      "source": [
        "## getting values out of the function(return values)\n",
        "def area_traingle(b,h ):\n",
        "  return b*h/2\n",
        "area = area_traingle(4, 8)\n",
        "print(\"area of traingle is: \" + str(area))\n"
      ],
      "metadata": {
        "colab": {
          "base_uri": "https://localhost:8080/"
        },
        "id": "QoKetA2T9Nj4",
        "outputId": "1ad6d15f-9a31-4618-aafd-a8312ea44d7a"
      },
      "execution_count": 10,
      "outputs": [
        {
          "output_type": "stream",
          "name": "stdout",
          "text": [
            "area of traingle is: 16.0\n"
          ]
        }
      ]
    },
    {
      "cell_type": "markdown",
      "source": [
        "**Exercise 2 :**"
      ],
      "metadata": {
        "id": "_vMR9fYl9iEe"
      }
    },
    {
      "cell_type": "markdown",
      "source": [
        "Example 6 :\n",
        "\n",
        "Write a function that compares two numbers and returns them in increasing order."
      ],
      "metadata": {
        "id": "gZaPP2089_qI"
      }
    },
    {
      "cell_type": "code",
      "source": [
        "def order_numbers(number1, number2):\n",
        "  if number2 > number1:\n",
        "    return  number1,number2\n",
        "  else:\n",
        "    return number2,number1\n",
        "smaller,bigger = order_numbers(200,180)\n",
        "print(smaller,bigger)\n"
      ],
      "metadata": {
        "colab": {
          "base_uri": "https://localhost:8080/"
        },
        "id": "pzTIx25P-Sv-",
        "outputId": "67a776d9-f308-4e6a-fc77-b8e7573b7f89"
      },
      "execution_count": 8,
      "outputs": [
        {
          "output_type": "stream",
          "name": "stdout",
          "text": [
            "180 200\n"
          ]
        }
      ]
    },
    {
      "cell_type": "markdown",
      "source": [
        "**4.Conditionals:**"
      ],
      "metadata": {
        "id": "V-szNVTv_u8L"
      }
    },
    {
      "cell_type": "markdown",
      "source": [
        "Example-7\n",
        "Even or Odd"
      ],
      "metadata": {
        "id": "s2bneXiyAifv"
      }
    },
    {
      "cell_type": "code",
      "source": [
        "def is_Even(number):\n",
        "  if (number%2 == 0):\n",
        "    return True\n",
        "    return False\n",
        "print(is_Even(7))\n"
      ],
      "metadata": {
        "colab": {
          "base_uri": "https://localhost:8080/"
        },
        "id": "_yCpiITEAq0O",
        "outputId": "bedde4d3-6d71-4f1e-a039-c206ea95677c"
      },
      "execution_count": 22,
      "outputs": [
        {
          "output_type": "stream",
          "name": "stdout",
          "text": [
            "None\n"
          ]
        }
      ]
    },
    {
      "cell_type": "markdown",
      "source": [
        "Example 8 :"
      ],
      "metadata": {
        "id": "oyxv446DB_Lw"
      }
    },
    {
      "cell_type": "code",
      "source": [
        "def number_group(number):\n",
        "  if number > 0: return \"Positive\"\n",
        "  elif number == 0:\n",
        "    return \"Zero\"\n",
        "  else:\n",
        "    return \"Negative\"\n",
        "print(number_group(10)) #Should be Positive\n",
        "print(number_group(0)) #Should be Zero\n",
        "print(number_group(-5)) #Should be Negative\n"
      ],
      "metadata": {
        "colab": {
          "base_uri": "https://localhost:8080/"
        },
        "id": "k7m_2yihCKgq",
        "outputId": "1db43eeb-d9e9-4738-ffa7-070f8114f32d"
      },
      "execution_count": 27,
      "outputs": [
        {
          "output_type": "stream",
          "name": "stdout",
          "text": [
            "Positive\n",
            "Zero\n",
            "Negative\n"
          ]
        }
      ]
    },
    {
      "cell_type": "markdown",
      "source": [
        "**5.Loops:**\n",
        "\n",
        "**1. While Loop:**"
      ],
      "metadata": {
        "id": "7WGv6AfaCw_z"
      }
    },
    {
      "cell_type": "markdown",
      "source": [
        "Example 9 :"
      ],
      "metadata": {
        "id": "8wpFGz0YC_UC"
      }
    },
    {
      "cell_type": "code",
      "source": [
        "#while loop\n",
        "x = 0 # initialzation of variable Why=?\n",
        "while x<5:\n",
        "  print(\"Not there yet, x= \" + str(x))\n",
        "  x = x+1\n",
        "  print(\"x= \"+str(x))\n"
      ],
      "metadata": {
        "colab": {
          "base_uri": "https://localhost:8080/"
        },
        "id": "AVpe2X3DDXCq",
        "outputId": "c127a920-0044-452d-f128-19e0d7d8c42b"
      },
      "execution_count": 28,
      "outputs": [
        {
          "output_type": "stream",
          "name": "stdout",
          "text": [
            "Not there yet, x= 0\n",
            "x= 1\n",
            "Not there yet, x= 1\n",
            "x= 2\n",
            "Not there yet, x= 2\n",
            "x= 3\n",
            "Not there yet, x= 3\n",
            "x= 4\n",
            "Not there yet, x= 4\n",
            "x= 5\n"
          ]
        }
      ]
    },
    {
      "cell_type": "markdown",
      "source": [
        "**Example 10 :**"
      ],
      "metadata": {
        "id": "YyoCI796D7EP"
      }
    },
    {
      "cell_type": "code",
      "source": [
        "def count_down(start_number):\n",
        "  current=3 #initialzation of variable\n",
        "  while (current > 0):\n",
        "    print(current)\n",
        "    current -= 1\n",
        "    print(\"Zero!\")\n",
        "count_down(3)\n"
      ],
      "metadata": {
        "colab": {
          "base_uri": "https://localhost:8080/"
        },
        "id": "vnjq96mfECVL",
        "outputId": "11ec0bae-da50-418b-8f6f-0346e020d1a4"
      },
      "execution_count": 30,
      "outputs": [
        {
          "output_type": "stream",
          "name": "stdout",
          "text": [
            "3\n",
            "Zero!\n",
            "2\n",
            "Zero!\n",
            "1\n",
            "Zero!\n"
          ]
        }
      ]
    },
    {
      "cell_type": "markdown",
      "source": [
        "**Infinite Loop with While in Python:**\n",
        "\n",
        "If the condition of a loop is always True, the loop runs for infinite times (until the memory is full).\n",
        "\n",
        "**Example 11:**\n"
      ],
      "metadata": {
        "id": "Bt9MkheMGV1n"
      }
    },
    {
      "cell_type": "code",
      "source": [
        "x=10\n",
        "while x%2 ==0:\n",
        "  if x==0:\n",
        "    break\n",
        "  x=x/2\n",
        "print(x)\n"
      ],
      "metadata": {
        "colab": {
          "base_uri": "https://localhost:8080/"
        },
        "id": "mtjGIoFzGZPm",
        "outputId": "9b42b19e-d51c-4ccf-8714-8f8137868653"
      },
      "execution_count": 33,
      "outputs": [
        {
          "output_type": "stream",
          "name": "stdout",
          "text": [
            "5.0\n"
          ]
        }
      ]
    },
    {
      "cell_type": "markdown",
      "source": [
        "**Example 12 :**"
      ],
      "metadata": {
        "id": "O8bJy5hLHV6d"
      }
    },
    {
      "cell_type": "code",
      "source": [
        "#solution of example 11\n",
        "if x != 0:\n",
        "  while x%2 == 0:\n",
        "    x = x/2\n",
        "print(x)\n",
        "#or while x != 0 and x%2 == 0: x = x/2\n"
      ],
      "metadata": {
        "colab": {
          "base_uri": "https://localhost:8080/"
        },
        "id": "mT-GHfCbHaax",
        "outputId": "a7c5a3eb-461d-4c0a-8238-d5eff10495ac"
      },
      "execution_count": 34,
      "outputs": [
        {
          "output_type": "stream",
          "name": "stdout",
          "text": [
            "5.0\n"
          ]
        }
      ]
    },
    {
      "cell_type": "markdown",
      "source": [
        "**2. For Loop:**"
      ],
      "metadata": {
        "id": "AWW9y-zWH0Kr"
      }
    },
    {
      "cell_type": "markdown",
      "source": [
        "In Python, a for loop is used to iterate over sequences such as lists, tuples, string, range() etc.\n",
        "\n",
        "**Example 13 :**"
      ],
      "metadata": {
        "id": "IW5QsfIbH8MT"
      }
    },
    {
      "cell_type": "code",
      "source": [
        "# for loop, iterates\n",
        "for x in range(5):\n",
        "  print(x)\n"
      ],
      "metadata": {
        "colab": {
          "base_uri": "https://localhost:8080/"
        },
        "id": "Bejv7sz5IHRf",
        "outputId": "87654cec-3379-4a7c-f86b-607d4cd6c5c0"
      },
      "execution_count": 37,
      "outputs": [
        {
          "output_type": "stream",
          "name": "stdout",
          "text": [
            "0\n",
            "1\n",
            "2\n",
            "3\n",
            "4\n"
          ]
        }
      ]
    },
    {
      "cell_type": "markdown",
      "source": [
        "**Example 14 :**"
      ],
      "metadata": {
        "id": "J0IDB9DeIllq"
      }
    },
    {
      "cell_type": "code",
      "source": [
        "def square(n):\n",
        "  return n*n\n",
        "def sum_squares(x):\n",
        "  sum = 0\n",
        "  for n in range(10):\n",
        "    sum += square(n)\n",
        "    return sum\n",
        "print(sum_squares(10))\n",
        "#Explain what does the program does?\n",
        "#This is the result of calling the sum_squares() function with an input value of 10, which calculates the 0.\n"
      ],
      "metadata": {
        "colab": {
          "base_uri": "https://localhost:8080/"
        },
        "id": "rCgosRaiI1CN",
        "outputId": "49b34700-964e-4507-f3e7-8751bc2a4958"
      },
      "execution_count": 38,
      "outputs": [
        {
          "output_type": "stream",
          "name": "stdout",
          "text": [
            "0\n"
          ]
        }
      ]
    },
    {
      "cell_type": "markdown",
      "source": [
        "**Example 15 :**"
      ],
      "metadata": {
        "id": "mMq8EFptJsuP"
      }
    },
    {
      "cell_type": "code",
      "source": [
        "values = [10, 20, 30, 40, 50]\n",
        "Sum = 0\n",
        "length = 0\n",
        "for value in values:\n",
        "  Sum = Sum+value\n",
        "  length = length+1\n",
        "print(\"Total sum= \"+str(Sum)+ \"and the Average=\"+str(Sum/length))\n"
      ],
      "metadata": {
        "colab": {
          "base_uri": "https://localhost:8080/"
        },
        "id": "CyPTJJ47Jxie",
        "outputId": "4205dd83-e3bf-4a3d-8f96-3cc8fe398eb5"
      },
      "execution_count": 41,
      "outputs": [
        {
          "output_type": "stream",
          "name": "stdout",
          "text": [
            "Total sum= 150and the Average=30.0\n"
          ]
        }
      ]
    },
    {
      "cell_type": "markdown",
      "source": [
        "**6.Nested loop:**"
      ],
      "metadata": {
        "id": "C28qYBnGKChq"
      }
    },
    {
      "cell_type": "markdown",
      "source": [
        "Nested loops mean loops inside a loop. For example, while loop inside the for loop, for loop inside the for loop, etc.\n",
        "\n",
        "**Example 16 :**"
      ],
      "metadata": {
        "id": "okRcVYs3KKlA"
      }
    },
    {
      "cell_type": "code",
      "source": [
        "#nested for loops\n",
        "for left in range(7):\n",
        "  for right in range(left, 7):\n",
        "    print(\"[\"+str(left)+\"|\"+str(right)+\"]\", end=\" \")\n",
        "print()\n",
        "#what does the program does\n",
        "#It generates all the possible pairs of numbers within specific range\n"
      ],
      "metadata": {
        "colab": {
          "base_uri": "https://localhost:8080/"
        },
        "id": "bQ3483u6KTnL",
        "outputId": "959f9639-53c0-4c44-d987-b23b0d4a29fb"
      },
      "execution_count": 42,
      "outputs": [
        {
          "output_type": "stream",
          "name": "stdout",
          "text": [
            "[0|0] [0|1] [0|2] [0|3] [0|4] [0|5] [0|6] [1|1] [1|2] [1|3] [1|4] [1|5] [1|6] [2|2] [2|3] [2|4] [2|5] [2|6] [3|3] [3|4] [3|5] [3|6] [4|4] [4|5] [4|6] [5|5] [5|6] [6|6] \n"
          ]
        }
      ]
    }
  ]
}